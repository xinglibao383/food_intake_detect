{
 "cells": [
  {
   "cell_type": "code",
   "execution_count": 1,
   "id": "dbc70b1f-8ca0-4b53-9221-123b3ef98abd",
   "metadata": {},
   "outputs": [],
   "source": [
    "import pandas as pd\n",
    "import numpy as np\n",
    "\n",
    "def read_data(file_path):\n",
    "    grouped_data = pd.read_csv(file_path, sep='\\t').groupby('设备编号')\n",
    "    \n",
    "    data_dict = {}\n",
    "    for device_id, group in grouped_data:\n",
    "        numpy_array = group[['加速度X', '加速度Y', '加速度Z', '角速度X', '角速度Y', '角速度Z']].to_numpy()\n",
    "        data_dict[device_id] = numpy_array\n",
    "        \n",
    "    return data_dict"
   ]
  },
  {
   "cell_type": "code",
   "execution_count": 2,
   "id": "8cf17031-bb0d-4be2-b4e6-1cfacc5587a0",
   "metadata": {},
   "outputs": [
    {
     "data": {
      "text/plain": [
       "((10128, 6), (49495, 6))"
      ]
     },
     "execution_count": 2,
     "metadata": {},
     "output_type": "execute_result"
    }
   ],
   "source": [
    "data_dict = read_data('daily_activities_xlb.txt')\n",
    "data_dict['WT5300006727'].shape, data_dict['WT5300006766'].shape"
   ]
  },
  {
   "cell_type": "code",
   "execution_count": 3,
   "id": "a9a87eab-ebac-4205-aa19-b842ab5adf5d",
   "metadata": {},
   "outputs": [],
   "source": [
    "def split_data(data, length, interval):\n",
    "    rows, cols = data.shape\n",
    "    num_samples = (rows - length) // interval + 1\n",
    "    last_sample_start = (num_samples - 1) * interval\n",
    "    if last_sample_start + length > rows:\n",
    "        num_samples -= 1\n",
    "    \n",
    "    result = np.zeros((num_samples, length, cols), dtype=data.dtype)\n",
    "    for i in range(num_samples):\n",
    "        start = i * interval\n",
    "        result[i] = data[start:start + length, :]\n",
    "    \n",
    "    return result"
   ]
  },
  {
   "cell_type": "code",
   "execution_count": 4,
   "id": "41b94676-e510-4045-98c4-cb93baf2ae92",
   "metadata": {},
   "outputs": [
    {
     "data": {
      "text/plain": [
       "((383, 512, 6), (386, 102, 6))"
      ]
     },
     "execution_count": 4,
     "metadata": {},
     "output_type": "execute_result"
    }
   ],
   "source": [
    "result1 = split_data(data_dict['WT5300006766'], 512, 128)\n",
    "result2 = split_data(data_dict['WT5300006727'], 102, 26)\n",
    "result1.shape, result2.shape"
   ]
  },
  {
   "cell_type": "code",
   "execution_count": 5,
   "id": "72ee165b-7276-444d-b4ac-16fcd1fe376b",
   "metadata": {},
   "outputs": [],
   "source": [
    "def get_data(file_paths):\n",
    "    watch_samples, glasses_samples = np.empty((0, 512, 6)), np.empty((0, 102, 6))\n",
    "    \n",
    "    for file_path in file_paths:\n",
    "        data_dict = read_data(file_path)\n",
    "\n",
    "        watch_data = split_data(data_dict['WT5300006766'], 512, 128)\n",
    "        glasses_data = split_data(data_dict['WT5300006727'], 102, 26)\n",
    "        num_watch_samples, num_glasses_samples = watch_data.shape[0], glasses_data.shape[0]\n",
    "        num_samples = num_watch_samples if num_watch_samples < num_glasses_samples else num_glasses_samples\n",
    "        watch_data, glasses_data = watch_data[:num_samples], glasses_data[:num_samples]\n",
    "\n",
    "        watch_samples = np.concatenate((watch_samples, watch_data), axis=0)\n",
    "        glasses_samples = np.concatenate((glasses_samples, glasses_data), axis=0)\n",
    "        \n",
    "    watch_samples, glasses_samples = watch_samples[:, np.newaxis, :, :], glasses_samples[:, np.newaxis, :, :]\n",
    "    labels = np.zeros((watch_samples.shape[0], 11))\n",
    "    \n",
    "    return watch_samples, glasses_samples, labels"
   ]
  },
  {
   "cell_type": "code",
   "execution_count": 6,
   "id": "c8e06009-7c67-46a8-b5af-30df6f0051d5",
   "metadata": {},
   "outputs": [
    {
     "data": {
      "text/plain": [
       "((1690, 1, 512, 6), (1690, 1, 102, 6), (1690, 11))"
      ]
     },
     "execution_count": 6,
     "metadata": {},
     "output_type": "execute_result"
    }
   ],
   "source": [
    "file_paths = ['daily_activities_xlb.txt', 'daily_activities_lb.txt', 'daily_activities_xhm.txt', 'daily_activities_yzk.txt']\n",
    "watch_samples, glasses_samples, labels = get_data(file_paths)\n",
    "watch_samples.shape, glasses_samples.shape, labels.shape"
   ]
  },
  {
   "cell_type": "code",
   "execution_count": null,
   "id": "c8a16e19-1500-4441-ae52-e1487e33a904",
   "metadata": {},
   "outputs": [],
   "source": []
  }
 ],
 "metadata": {
  "kernelspec": {
   "display_name": "Python 3 (ipykernel)",
   "language": "python",
   "name": "python3"
  },
  "language_info": {
   "codemirror_mode": {
    "name": "ipython",
    "version": 3
   },
   "file_extension": ".py",
   "mimetype": "text/x-python",
   "name": "python",
   "nbconvert_exporter": "python",
   "pygments_lexer": "ipython3",
   "version": "3.8.18"
  }
 },
 "nbformat": 4,
 "nbformat_minor": 5
}
