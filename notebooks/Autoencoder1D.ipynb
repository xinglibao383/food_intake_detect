{
 "cells": [
  {
   "cell_type": "code",
   "execution_count": 1,
   "id": "8a689a65-b773-4dd3-9f22-822cac895a40",
   "metadata": {},
   "outputs": [],
   "source": [
    "import torch\n",
    "import torch.nn as nn"
   ]
  },
  {
   "cell_type": "code",
   "execution_count": 2,
   "id": "df243bbb-66ce-4010-83b1-3a6068eb7a6d",
   "metadata": {},
   "outputs": [],
   "source": [
    "class Encoder(nn.Module):\n",
    "    def __init__(self, dropout):\n",
    "        super(Encoder, self).__init__()\n",
    "        self.conv1 = nn.Conv1d(in_channels=12, out_channels=64, kernel_size=3, stride=1, padding=1)\n",
    "        self.relu1 = nn.ReLU()\n",
    "        self.pool1 = nn.MaxPool1d(kernel_size=2, stride=2)\n",
    "        self.dropout1 = nn.Dropout(p=dropout)\n",
    "\n",
    "        self.conv2 = nn.Conv1d(in_channels=64, out_channels=256, kernel_size=3, stride=1, padding=1)\n",
    "        self.relu2 = nn.ReLU()\n",
    "        self.pool2 = nn.MaxPool1d(kernel_size=2, stride=2)\n",
    "        self.dropout2 = nn.Dropout(p=dropout)\n",
    "\n",
    "        self.conv3 = nn.Conv1d(in_channels=256, out_channels=64, kernel_size=3, stride=1, padding=1)\n",
    "        self.relu3 = nn.ReLU()\n",
    "        self.pool3 = nn.MaxPool1d(kernel_size=2, stride=2)\n",
    "        self.dropout3 = nn.Dropout(p=dropout)\n",
    "\n",
    "        self.conv4 = nn.Conv1d(in_channels=64, out_channels=12, kernel_size=3, stride=1, padding=1)\n",
    "        self.relu4 = nn.ReLU()\n",
    "        self.pool4 = nn.MaxPool1d(kernel_size=2, stride=2)\n",
    "        self.dropout4 = nn.Dropout(p=dropout)\n",
    "\n",
    "    def forward(self, x):\n",
    "        x = self.dropout1(self.pool1(self.relu1(self.conv1(x))))\n",
    "        x = self.dropout2(self.pool2(self.relu2(self.conv2(x))))\n",
    "        x = self.dropout3(self.pool3(self.relu3(self.conv3(x))))\n",
    "        x = self.dropout4(self.pool4(self.relu4(self.conv4(x))))\n",
    "        return x"
   ]
  },
  {
   "cell_type": "code",
   "execution_count": 3,
   "id": "b08d16b2-ba35-429a-b490-7540b6851e35",
   "metadata": {},
   "outputs": [],
   "source": [
    "class Decoder(nn.Module):\n",
    "    def __init__(self, dropout):\n",
    "        super(Decoder, self).__init__()\n",
    "        self.deconv1 = nn.ConvTranspose1d(12, 64, kernel_size=2, stride=2, padding=0)\n",
    "        self.relu1 = nn.ReLU()\n",
    "        self.dropout1 = nn.Dropout(p=dropout)\n",
    "\n",
    "        self.deconv2 = nn.ConvTranspose1d(64, 256, kernel_size=2, stride=2, padding=0)\n",
    "        self.relu2 = nn.ReLU()\n",
    "        self.dropout2 = nn.Dropout(p=dropout)\n",
    "\n",
    "        self.deconv3 = nn.ConvTranspose1d(256, 64, kernel_size=2, stride=2, padding=0)\n",
    "        self.relu3 = nn.ReLU()\n",
    "        self.dropout3 = nn.Dropout(p=dropout)\n",
    "\n",
    "        self.deconv4 = nn.ConvTranspose1d(64, 12, kernel_size=2, stride=2, padding=0)\n",
    "        self.relu4 = nn.ReLU()\n",
    "        self.dropout4 = nn.Dropout(p=dropout)\n",
    "\n",
    "    def forward(self, x):\n",
    "        x = self.dropout1(self.relu1(self.deconv1(x)))\n",
    "        x = self.dropout2(self.relu2(self.deconv2(x)))\n",
    "        x = self.dropout3(self.relu3(self.deconv3(x)))\n",
    "        x = self.dropout4(self.relu4(self.deconv4(x)))\n",
    "        return x"
   ]
  },
  {
   "cell_type": "code",
   "execution_count": 4,
   "id": "4b1638ba-d0d3-44ee-b821-6f8212e8cbfb",
   "metadata": {},
   "outputs": [],
   "source": [
    "class Autoencoder(nn.Module):\n",
    "    def __init__(self, dropout=0.2):\n",
    "        super(Autoencoder, self).__init__()\n",
    "        self.encoder = Encoder(dropout)\n",
    "        self.decoder = Decoder(dropout)\n",
    "\n",
    "    def forward(self, x):\n",
    "        encoded = self.encoder(x)\n",
    "        decoded = self.decoder(encoded)\n",
    "        return decoded"
   ]
  },
  {
   "cell_type": "code",
   "execution_count": 5,
   "id": "e9acee80-cb8c-471e-90ec-23c140a38f03",
   "metadata": {},
   "outputs": [
    {
     "name": "stdout",
     "output_type": "stream",
     "text": [
      "torch.Size([16, 12, 512])\n"
     ]
    }
   ],
   "source": [
    "if __name__ == '__main__':\n",
    "    autoencoder = Autoencoder(dropout=0.5)\n",
    "    x = torch.randn((16, 12, 512))\n",
    "    decoded = autoencoder(x)\n",
    "    print(decoded.shape)"
   ]
  },
  {
   "cell_type": "code",
   "execution_count": null,
   "id": "da091b87-427c-4be4-9ee5-0fe82dee2fc5",
   "metadata": {},
   "outputs": [],
   "source": []
  }
 ],
 "metadata": {
  "kernelspec": {
   "display_name": "Python 3 (ipykernel)",
   "language": "python",
   "name": "python3"
  },
  "language_info": {
   "codemirror_mode": {
    "name": "ipython",
    "version": 3
   },
   "file_extension": ".py",
   "mimetype": "text/x-python",
   "name": "python",
   "nbconvert_exporter": "python",
   "pygments_lexer": "ipython3",
   "version": "3.8.18"
  }
 },
 "nbformat": 4,
 "nbformat_minor": 5
}
