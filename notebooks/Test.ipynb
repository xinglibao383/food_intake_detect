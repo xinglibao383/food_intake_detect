{
 "cells": [
  {
   "cell_type": "code",
   "execution_count": 4,
   "id": "938656c7-f1f7-4e48-aeba-b3ad48b41758",
   "metadata": {},
   "outputs": [],
   "source": [
    "import os\n",
    "import sys\n",
    "import numpy as np\n",
    "import scipy.io\n",
    "from torch.utils.data import Dataset, DataLoader\n",
    "\n",
    "current_dir = os.path.dirname(os.path.abspath('__file__'))\n",
    "parent_dir = os.path.join(current_dir, '..', \"utils\")\n",
    "sys.path.append(parent_dir)\n",
    "from data_segment import save_all_data"
   ]
  },
  {
   "cell_type": "code",
   "execution_count": null,
   "id": "09f0d6c1-423a-4ee3-a687-7365f36f817a",
   "metadata": {},
   "outputs": [],
   "source": []
  }
 ],
 "metadata": {
  "kernelspec": {
   "display_name": "Python 3 (ipykernel)",
   "language": "python",
   "name": "python3"
  },
  "language_info": {
   "codemirror_mode": {
    "name": "ipython",
    "version": 3
   },
   "file_extension": ".py",
   "mimetype": "text/x-python",
   "name": "python",
   "nbconvert_exporter": "python",
   "pygments_lexer": "ipython3",
   "version": "3.8.18"
  }
 },
 "nbformat": 4,
 "nbformat_minor": 5
}
