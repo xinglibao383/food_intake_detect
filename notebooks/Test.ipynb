{
 "cells": [
  {
   "cell_type": "code",
   "execution_count": 2,
   "id": "938656c7-f1f7-4e48-aeba-b3ad48b41758",
   "metadata": {},
   "outputs": [
    {
     "name": "stdout",
     "output_type": "stream",
     "text": [
      "ATen/Parallel:\n",
      "\tat::get_num_threads() : 16\n",
      "\tat::get_num_interop_threads() : 12\n",
      "OpenMP 2019\n",
      "\tomp_get_max_threads() : 16\n",
      "Intel(R) Math Kernel Library Version 2020.0.2 Product Build 20200624 for Intel(R) 64 architecture applications\n",
      "\tmkl_get_max_threads() : 16\n",
      "Intel(R) MKL-DNN v2.7.3 (Git Hash 6dbeffbae1f23cbbeae17adb7b5b13f1f37c080e)\n",
      "std::thread::hardware_concurrency() : 24\n",
      "Environment variables:\n",
      "\tOMP_NUM_THREADS : [not set]\n",
      "\tMKL_NUM_THREADS : [not set]\n",
      "ATen parallel backend: OpenMP\n",
      "\n"
     ]
    }
   ],
   "source": [
    "import torch\n",
    "\n",
    "print(torch.__config__.parallel_info())"
   ]
  },
  {
   "cell_type": "code",
   "execution_count": 2,
   "id": "09f0d6c1-423a-4ee3-a687-7365f36f817a",
   "metadata": {},
   "outputs": [
    {
     "name": "stdout",
     "output_type": "stream",
     "text": [
      "第95百分位数为: 0.42500000000000004\n"
     ]
    }
   ],
   "source": [
    "import numpy as np\n",
    "\n",
    "# 假设你有一个包含损失值的列表或数组\n",
    "loss_values = [0.1, 0.5, 0.3, 0.8, 1.2, 0.7, 0.4, 0.6, 0.9, 1.0]\n",
    "\n",
    "# 计算第95百分位数\n",
    "threshold = np.percentile(loss_values, 25)\n",
    "\n",
    "print(\"第95百分位数为:\", threshold)\n"
   ]
  },
  {
   "cell_type": "code",
   "execution_count": null,
   "id": "3618c0d8-adae-48d2-a361-65f791cc9bb0",
   "metadata": {},
   "outputs": [],
   "source": []
  }
 ],
 "metadata": {
  "kernelspec": {
   "display_name": "Python 3 (ipykernel)",
   "language": "python",
   "name": "python3"
  },
  "language_info": {
   "codemirror_mode": {
    "name": "ipython",
    "version": 3
   },
   "file_extension": ".py",
   "mimetype": "text/x-python",
   "name": "python",
   "nbconvert_exporter": "python",
   "pygments_lexer": "ipython3",
   "version": "3.8.18"
  }
 },
 "nbformat": 4,
 "nbformat_minor": 5
}
