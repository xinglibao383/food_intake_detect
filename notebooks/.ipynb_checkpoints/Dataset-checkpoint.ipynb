{
 "cells": [
  {
   "cell_type": "code",
   "execution_count": 42,
   "id": "938656c7-f1f7-4e48-aeba-b3ad48b41758",
   "metadata": {},
   "outputs": [],
   "source": [
    "import os\n",
    "import sys\n",
    "import numpy as np\n",
    "import scipy.io\n",
    "from torch.utils.data import Dataset, DataLoader\n",
    "\n",
    "current_dir = os.path.dirname(os.path.abspath('__file__'))\n",
    "parent_dir = os.path.join(current_dir, '..', \"utils\")\n",
    "sys.path.append(parent_dir)\n",
    "from data_segment import save_all_data"
   ]
  },
  {
   "cell_type": "code",
   "execution_count": 43,
   "id": "ceb33ff2-d89a-4d86-a57b-1c129633047c",
   "metadata": {},
   "outputs": [],
   "source": [
    "class SelfDataset(Dataset):\n",
    "    def __init__(self, data, targets, transform=None):\n",
    "        self.data = data\n",
    "        self.targets = targets\n",
    "        self.transform = transform\n",
    "\n",
    "    def __len__(self):\n",
    "        return len(self.data)\n",
    "\n",
    "    def __getitem__(self, index):\n",
    "        x = self.data[index]\n",
    "        y = self.targets[index]\n",
    "\n",
    "        if self.transform:\n",
    "            x = self.transform(x)\n",
    "\n",
    "        return x, y"
   ]
  },
  {
   "cell_type": "code",
   "execution_count": 35,
   "id": "f3b068c6-d987-44a4-ad50-335723af3bc3",
   "metadata": {},
   "outputs": [],
   "source": [
    "def load_data_from_disk(dir_root_path, train):\n",
    "    acc_gyr_data, label_data = [], []\n",
    "    category_dirs = [f.name for f in os.scandir(dir_root_path) if f.is_dir()]\n",
    "\n",
    "    for dir in category_dirs:\n",
    "        if train:\n",
    "            mats_dir = os.path.join(dir_root_path, dir, \"train\", \"eat\")\n",
    "        else:\n",
    "            mats_dir = os.path.join(dir_root_path, dir, \"test\", \"eat\")\n",
    "        if not (os.path.exists(mats_dir) and os.listdir(mats_dir)):\n",
    "            continue\n",
    "        mats = [os.path.join(mats_dir, f) for f in os.listdir(mats_dir) if os.path.isfile(os.path.join(mats_dir, f))]\n",
    "        for mat in mats:\n",
    "            mat_data = scipy.io.loadmat(mat)\n",
    "\n",
    "            acc = np.array(mat_data[\"accData\"])\n",
    "            gyr = np.array(mat_data[\"gyrData\"])\n",
    "            acc_gyr = np.concatenate((acc, gyr), axis=1).reshape((1, 512, 6))\n",
    "\n",
    "            one_hot_label = np.zeros(11)\n",
    "            one_hot_label[mat_data[\"label\"][0][0] - 1] = 1\n",
    "\n",
    "            acc_gyr_data.append(acc_gyr)\n",
    "            label_data.append(one_hot_label)\n",
    "\n",
    "    return np.array(acc_gyr_data), np.array(label_data)"
   ]
  },
  {
   "cell_type": "code",
   "execution_count": 36,
   "id": "b316b218-c06d-4c04-bc67-93d07641d7c1",
   "metadata": {},
   "outputs": [
    {
     "data": {
      "text/plain": [
       "(8733, 1, 512, 6)"
      ]
     },
     "execution_count": 36,
     "metadata": {},
     "output_type": "execute_result"
    }
   ],
   "source": [
    "acc_gyr_data, label_data = load_data_from_disk(\"../data/512_128_8_cross_person/\", True)\n",
    "acc_gyr_data.shape"
   ]
  },
  {
   "cell_type": "code",
   "execution_count": 39,
   "id": "9cf9a990-9c02-44c8-9467-9d30b96f5a67",
   "metadata": {},
   "outputs": [],
   "source": [
    "def load_data():\n",
    "    original_data_root_path = \"../data/original_food_intake_data/\"\n",
    "    cross_person = True\n",
    "    sample_length, stride, train_person_num, train_ratio = 512, 128, 8, 0.8\n",
    "    batch_size, shuffle, num_workers = 64, True, 4\n",
    "    generated_data_save_path = \"../data\"\n",
    "    \n",
    "    if cross_person:\n",
    "        load_parent_path = os.path.join(generated_data_save_path, \"{}_{}_{}_cross_person\".format(sample_length, stride, train_person_num))\n",
    "        if not os.path.exists(load_parent_path):\n",
    "            save_all_data(sample_length, stride, cross_person, train_person_num, train_ratio)\n",
    "    else:\n",
    "        load_parent_path = os.path.join(generated_data_save_path, \"{}_{}_{}_not_cross_person\".format(sample_length, stride, train_ratio))\n",
    "        if not os.path.exists(load_parent_path):\n",
    "            save_all_data(sample_length, stride, cross_person, train_person_num, train_ratio)\n",
    "\n",
    "    train_acc_gyr_data, train_label_data = load_data_from_disk(load_parent_path, True)\n",
    "    test_acc_gyr_data, test_label_data = load_data_from_disk(load_parent_path, False)\n",
    "    print(f\"共载入 {train_acc_gyr_data.shape[0]} 条训练数据, {test_acc_gyr_data.shape[0]} 条测试数据\")\n",
    "    \n",
    "    return (\n",
    "        DataLoader(SelfDataset(train_acc_gyr_data, train_label_data), batch_size, shuffle=shuffle, num_workers=num_workers),\n",
    "        DataLoader(SelfDataset(test_acc_gyr_data, test_label_data), batch_size, shuffle=shuffle, num_workers=num_workers))"
   ]
  },
  {
   "cell_type": "code",
   "execution_count": 40,
   "id": "004d1ba0-3eb9-413d-a9a5-917d6a0fac68",
   "metadata": {},
   "outputs": [
    {
     "name": "stdout",
     "output_type": "stream",
     "text": [
      "共载入 8733 条训练数据, 1538 条测试数据\n"
     ]
    }
   ],
   "source": [
    "a, b = load_data()"
   ]
  },
  {
   "cell_type": "code",
   "execution_count": null,
   "id": "09f0d6c1-423a-4ee3-a687-7365f36f817a",
   "metadata": {},
   "outputs": [],
   "source": []
  }
 ],
 "metadata": {
  "kernelspec": {
   "display_name": "Python 3 (ipykernel)",
   "language": "python",
   "name": "python3"
  },
  "language_info": {
   "codemirror_mode": {
    "name": "ipython",
    "version": 3
   },
   "file_extension": ".py",
   "mimetype": "text/x-python",
   "name": "python",
   "nbconvert_exporter": "python",
   "pygments_lexer": "ipython3",
   "version": "3.8.18"
  }
 },
 "nbformat": 4,
 "nbformat_minor": 5
}
