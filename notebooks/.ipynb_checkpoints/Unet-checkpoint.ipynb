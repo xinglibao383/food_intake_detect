{
 "cells": [
  {
   "cell_type": "code",
   "execution_count": 106,
   "id": "5eb761b0-c37e-4079-937a-e9f7ac9bd566",
   "metadata": {},
   "outputs": [],
   "source": [
    "from typing import Dict\n",
    "import torch\n",
    "import torch.nn as nn\n",
    "import torch.nn.functional as F"
   ]
  },
  {
   "cell_type": "code",
   "execution_count": 107,
   "id": "211bd9ae-815d-40df-86d8-6b21f93de048",
   "metadata": {},
   "outputs": [],
   "source": [
    "class DoubleConv(nn.Sequential):\n",
    "    def __init__(self, in_channels, out_channels, mid_channels=None):\n",
    "        if mid_channels is None:\n",
    "            mid_channels = out_channels\n",
    "        super(DoubleConv, self).__init__(\n",
    "            nn.Conv2d(in_channels, mid_channels, kernel_size=3, padding=1, bias=False),\n",
    "            nn.BatchNorm2d(mid_channels),\n",
    "            nn.ReLU(inplace=True),\n",
    "            nn.Conv2d(mid_channels, out_channels, kernel_size=3, padding=1, bias=False),\n",
    "            nn.BatchNorm2d(out_channels),\n",
    "            nn.ReLU(inplace=True)\n",
    "        )"
   ]
  },
  {
   "cell_type": "code",
   "execution_count": 112,
   "id": "40777cfc-9580-42e8-91a9-3db5f2699bdd",
   "metadata": {},
   "outputs": [],
   "source": [
    "class Down(nn.Sequential):\n",
    "    def __init__(self, in_channels, out_channels):\n",
    "        super(Down, self).__init__(\n",
    "            # nn.MaxPool2d(2, stride=2),\n",
    "            nn.MaxPool2d(kernel_size=(2, 1)),\n",
    "            DoubleConv(in_channels, out_channels)\n",
    "        )"
   ]
  },
  {
   "cell_type": "code",
   "execution_count": 113,
   "id": "b0cad5cc-50a9-4fe3-b5a9-e990546452fa",
   "metadata": {},
   "outputs": [],
   "source": [
    "class Up(nn.Module):\n",
    "    def __init__(self, in_channels, out_channels, bilinear=True):\n",
    "        super(Up, self).__init__()\n",
    "        if bilinear:\n",
    "            self.up = nn.Upsample(scale_factor=2, mode='bilinear', align_corners=True)\n",
    "            self.conv = DoubleConv(in_channels, out_channels, in_channels // 2)\n",
    "        else:\n",
    "            # self.up = nn.ConvTranspose2d(in_channels, in_channels // 2, kernel_size=2, stride=2)\n",
    "            self.up = nn.ConvTranspose2d(in_channels, in_channels // 2, kernel_size=3, stride=2, padding=1, output_padding=0)\n",
    "            self.conv = DoubleConv(in_channels, out_channels)\n",
    "\n",
    "    def forward(self, x1: torch.Tensor, x2: torch.Tensor) -> torch.Tensor:\n",
    "        x1 = self.up(x1)\n",
    "        # [N, C, H, W]\n",
    "        diff_y = x2.size()[2] - x1.size()[2]\n",
    "        diff_x = x2.size()[3] - x1.size()[3]\n",
    "\n",
    "        # padding_left, padding_right, padding_top, padding_bottom\n",
    "        x1 = F.pad(x1, [diff_x // 2, diff_x - diff_x // 2,\n",
    "                        diff_y // 2, diff_y - diff_y // 2])\n",
    "\n",
    "        x = torch.cat([x2, x1], dim=1)\n",
    "        x = self.conv(x)\n",
    "        return x"
   ]
  },
  {
   "cell_type": "code",
   "execution_count": 114,
   "id": "d7e01ed6-6b77-42b2-9d89-447c1a906265",
   "metadata": {},
   "outputs": [],
   "source": [
    "class OutConv(nn.Sequential):\n",
    "    def __init__(self, in_channels, num_classes):\n",
    "        super(OutConv, self).__init__(\n",
    "            nn.Conv2d(in_channels, num_classes, kernel_size=1)\n",
    "        )"
   ]
  },
  {
   "cell_type": "code",
   "execution_count": 128,
   "id": "2995c483-cb8e-48d5-98a6-4c8c29a57d95",
   "metadata": {},
   "outputs": [],
   "source": [
    "class UNet(nn.Module):\n",
    "    def __init__(self,\n",
    "                 in_channels: int = 1,\n",
    "                 num_classes: int = 1,\n",
    "                 bilinear: bool = True,\n",
    "                 base_c: int = 64):\n",
    "        super(UNet, self).__init__()\n",
    "        self.in_channels = in_channels\n",
    "        self.num_classes = num_classes\n",
    "        self.bilinear = bilinear\n",
    "\n",
    "        self.in_conv = DoubleConv(in_channels, base_c)\n",
    "        self.down1 = Down(base_c, base_c * 2)\n",
    "        self.down2 = Down(base_c * 2, base_c * 4)\n",
    "        self.down3 = Down(base_c * 4, base_c * 8)\n",
    "        factor = 2 if bilinear else 1\n",
    "        self.down4 = Down(base_c * 8, base_c * 16 // factor)\n",
    "        self.up1 = Up(base_c * 16, base_c * 8 // factor, bilinear)\n",
    "        self.up2 = Up(base_c * 8, base_c * 4 // factor, bilinear)\n",
    "        self.up3 = Up(base_c * 4, base_c * 2 // factor, bilinear)\n",
    "        self.up4 = Up(base_c * 2, base_c, bilinear)\n",
    "        self.out_conv = OutConv(base_c, num_classes)\n",
    "\n",
    "    def forward(self, x: torch.Tensor) -> Dict[str, torch.Tensor]:\n",
    "        x1 = self.in_conv(x)\n",
    "        print(x1.shape)\n",
    "        x2 = self.down1(x1)\n",
    "        print(x2.shape)\n",
    "        x3 = self.down2(x2)\n",
    "        print(x3.shape)\n",
    "        x4 = self.down3(x3)\n",
    "        print(x4.shape)\n",
    "        x5 = self.down4(x4)\n",
    "        print(x5.shape)\n",
    "        x = self.up1(x5, x4)\n",
    "        print(x.shape)\n",
    "        x = self.up2(x, x3)\n",
    "        print(x.shape)\n",
    "        x = self.up3(x, x2)\n",
    "        print(x.shape)\n",
    "        x = self.up4(x, x1)\n",
    "        print(x.shape)\n",
    "        logits = self.out_conv(x)\n",
    "        print(x.shape)\n",
    "        return logits"
   ]
  },
  {
   "cell_type": "code",
   "execution_count": 129,
   "id": "2eaa941c-7a6b-4ccf-91df-793aca77f7d8",
   "metadata": {},
   "outputs": [],
   "source": [
    "net = UNet(bilinear=False, base_c=8)"
   ]
  },
  {
   "cell_type": "code",
   "execution_count": 130,
   "id": "b75efc64-91cd-4f35-a216-7c2b969c4f7b",
   "metadata": {},
   "outputs": [
    {
     "name": "stdout",
     "output_type": "stream",
     "text": [
      "torch.Size([1, 8, 512, 6])\n",
      "torch.Size([1, 16, 256, 6])\n",
      "torch.Size([1, 32, 128, 6])\n",
      "torch.Size([1, 64, 64, 6])\n",
      "torch.Size([1, 128, 32, 6])\n",
      "torch.Size([1, 64, 64, 6])\n",
      "torch.Size([1, 32, 128, 6])\n",
      "torch.Size([1, 16, 256, 6])\n",
      "torch.Size([1, 8, 512, 6])\n",
      "torch.Size([1, 8, 512, 6])\n"
     ]
    }
   ],
   "source": [
    "X = torch.rand(size=(1, 1, 512, 6))\n",
    "# X = torch.rand(size=(1, 1, 480, 480))\n",
    "out = net(X)"
   ]
  },
  {
   "cell_type": "code",
   "execution_count": 131,
   "id": "c7ebd154-fb6a-414b-869c-c2a2452c0392",
   "metadata": {},
   "outputs": [
    {
     "data": {
      "text/plain": [
       "torch.Size([1, 1, 512, 6])"
      ]
     },
     "execution_count": 131,
     "metadata": {},
     "output_type": "execute_result"
    }
   ],
   "source": [
    "out.shape"
   ]
  }
 ],
 "metadata": {
  "kernelspec": {
   "display_name": "Python 3 (ipykernel)",
   "language": "python",
   "name": "python3"
  },
  "language_info": {
   "codemirror_mode": {
    "name": "ipython",
    "version": 3
   },
   "file_extension": ".py",
   "mimetype": "text/x-python",
   "name": "python",
   "nbconvert_exporter": "python",
   "pygments_lexer": "ipython3",
   "version": "3.8.18"
  }
 },
 "nbformat": 4,
 "nbformat_minor": 5
}
