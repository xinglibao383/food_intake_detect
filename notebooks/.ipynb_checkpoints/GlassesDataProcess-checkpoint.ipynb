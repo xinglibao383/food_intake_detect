{
 "cells": [
  {
   "cell_type": "code",
   "execution_count": 47,
   "id": "7ba0e101-4034-4cf8-a1cc-c4639be3db58",
   "metadata": {},
   "outputs": [],
   "source": [
    "import os\n",
    "import pandas as pd"
   ]
  },
  {
   "cell_type": "code",
   "execution_count": 48,
   "id": "6568b349-6183-44d5-b809-cab40d9c7dbd",
   "metadata": {},
   "outputs": [],
   "source": [
    "table = pd.read_table('../data/original_food_intake_data/01_DryNoodles/01/sensor.txt', sep='\\t')"
   ]
  },
  {
   "cell_type": "code",
   "execution_count": 49,
   "id": "397be51a-cf64-420d-b59b-d9f7c788b99c",
   "metadata": {},
   "outputs": [],
   "source": [
    "datetime_cloumn = ['接收时间']\n",
    "float_columns = ['加速度X', '加速度Y', '加速度Z', '角速度X', '角速度Y', '角速度Z']\n",
    "selected_columns  = datetime_cloumn + float_colums"
   ]
  },
  {
   "cell_type": "code",
   "execution_count": 50,
   "id": "f79028b2-d5f4-4cc4-8e55-cee2dca789b9",
   "metadata": {},
   "outputs": [],
   "source": [
    "table['接收时间'] = pd.to_datetime(table['接收时间'])\n",
    "table[float_colums] = table[float_colums].astype(float)\n",
    "selected_data = table[selected_columns].to_numpy()"
   ]
  },
  {
   "cell_type": "code",
   "execution_count": 57,
   "id": "3482eba0-7c6a-49b5-ab20-8c7d4e5472c3",
   "metadata": {},
   "outputs": [
    {
     "data": {
      "text/plain": [
       "(Timestamp('2022-10-15 12:16:05.340000'), 0.895)"
      ]
     },
     "execution_count": 57,
     "metadata": {},
     "output_type": "execute_result"
    }
   ],
   "source": [
    "selected_data[0][0], selected_data[0][1]"
   ]
  },
  {
   "cell_type": "code",
   "execution_count": 28,
   "id": "35f5764f-6f18-49d7-b611-6cc93f0ab1b7",
   "metadata": {},
   "outputs": [],
   "source": []
  },
  {
   "cell_type": "code",
   "execution_count": 31,
   "id": "e67f516c-42a2-45b8-9656-55943bcf6b23",
   "metadata": {},
   "outputs": [
    {
     "data": {
      "text/plain": [
       "接收时间                      设备编号          加速度X   加速度Y   加速度Z    角速度X    角速度Y    角速度Z    角度X     角度Y      角度Z          磁场X\n",
       " 2022-10-15 12:16:05.340  WT5300005081  0.895  0.493  -0.016  -0.732  -0.488  0.915   91.153  -61.787  -171.573     -88\n",
       " 2022-10-15 12:16:05.436  WT5300005081  0.894  0.487  -0.016  -0.793  -0.183  0.183   91.131  -61.820  -171.644     -87\n",
       " 2022-10-15 12:16:05.538  WT5300005081  0.895  0.495  -0.016  -1.708  -1.098  -0.183  91.170  -61.781  -171.771     -86\n",
       " 2022-10-15 12:16:05.637  WT5300005081  0.895  0.501  -0.014  -4.577  -2.197  0.610   91.175  -61.748  -172.073     -87\n",
       "                                                                                                                   ... \n",
       " 2022-10-15 12:21:19.935  WT5300005081  0.892  0.504  -0.045  2.441   0.732   -0.427  94.196  -60.919  -174.748    -108\n",
       " 2022-10-15 12:21:20.038  WT5300005081  0.892  0.517  -0.038  -0.854  2.319   2.197   94.180  -60.902  -174.501    -109\n",
       " 2022-10-15 12:21:20.149  WT5300005081  0.895  0.497  -0.048  2.014   0.122   -0.427  94.141  -61.051  -174.424    -109\n",
       " 2022-10-15 12:21:20.230  WT5300005081  0.881  0.494  -0.044  0.793   1.464   -2.258  93.966  -60.924  -174.078    -110\n",
       " 2022-10-15 12:21:20.337  WT5300005081  0.899  0.512  -0.035  -0.610  1.770   -0.793  93.856  -60.809  -173.836    -111\n",
       "Name: 接收时间, Length: 3150, dtype: object"
      ]
     },
     "execution_count": 31,
     "metadata": {},
     "output_type": "execute_result"
    }
   ],
   "source": []
  },
  {
   "cell_type": "code",
   "execution_count": null,
   "id": "1eb40998-2533-4ae2-ae18-c290f050ca46",
   "metadata": {},
   "outputs": [],
   "source": []
  }
 ],
 "metadata": {
  "kernelspec": {
   "display_name": "Python 3 (ipykernel)",
   "language": "python",
   "name": "python3"
  },
  "language_info": {
   "codemirror_mode": {
    "name": "ipython",
    "version": 3
   },
   "file_extension": ".py",
   "mimetype": "text/x-python",
   "name": "python",
   "nbconvert_exporter": "python",
   "pygments_lexer": "ipython3",
   "version": "3.8.18"
  }
 },
 "nbformat": 4,
 "nbformat_minor": 5
}
