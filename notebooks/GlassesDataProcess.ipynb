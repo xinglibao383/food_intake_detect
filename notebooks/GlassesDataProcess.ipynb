{
 "cells": [
  {
   "cell_type": "code",
   "execution_count": 35,
   "id": "7ba0e101-4034-4cf8-a1cc-c4639be3db58",
   "metadata": {},
   "outputs": [],
   "source": [
    "import os\n",
    "import pandas as pd\n",
    "import numpy as np"
   ]
  },
  {
   "cell_type": "code",
   "execution_count": 36,
   "id": "6568b349-6183-44d5-b809-cab40d9c7dbd",
   "metadata": {},
   "outputs": [],
   "source": [
    "table = pd.read_table('../data/original_food_intake_data/01_DryNoodles/01/sensor.txt', sep='\\t')"
   ]
  },
  {
   "cell_type": "code",
   "execution_count": 37,
   "id": "397be51a-cf64-420d-b59b-d9f7c788b99c",
   "metadata": {},
   "outputs": [],
   "source": [
    "table['接收时间'] = pd.to_datetime(table['接收时间'])\n",
    "selected_columns = ['接收时间', '加速度X', '加速度Y', '加速度Z', '角速度X', '角速度Y', '角速度Z']\n",
    "data = table[selected_columns].to_numpy()"
   ]
  },
  {
   "cell_type": "code",
   "execution_count": 38,
   "id": "a633fef0-d1d5-414f-b324-dbe5f1801e22",
   "metadata": {},
   "outputs": [],
   "source": [
    "sub_data = data[0:5]"
   ]
  },
  {
   "cell_type": "code",
   "execution_count": 39,
   "id": "f79028b2-d5f4-4cc4-8e55-cee2dca789b9",
   "metadata": {},
   "outputs": [
    {
     "data": {
      "text/plain": [
       "array([[Timestamp('2022-10-15 12:16:05.340000'), 0.895, 0.493, -0.016,\n",
       "        -0.732, -0.488, 0.915],\n",
       "       [Timestamp('2022-10-15 12:16:05.436000'), 0.894, 0.487, -0.016,\n",
       "        -0.793, -0.183, 0.183],\n",
       "       [Timestamp('2022-10-15 12:16:05.538000'), 0.895, 0.495, -0.016,\n",
       "        -1.708, -1.098, -0.183],\n",
       "       [Timestamp('2022-10-15 12:16:05.637000'), 0.895, 0.501, -0.014,\n",
       "        -4.577, -2.197, 0.61],\n",
       "       [Timestamp('2022-10-15 12:16:05.760000'), 0.892, 0.513, -0.008,\n",
       "        -14.465, -4.089, 1.708]], dtype=object)"
      ]
     },
     "execution_count": 39,
     "metadata": {},
     "output_type": "execute_result"
    }
   ],
   "source": [
    "sub_data"
   ]
  },
  {
   "cell_type": "code",
   "execution_count": 41,
   "id": "b8a4ad89-f2dd-4d71-a76d-db405a4bfaa9",
   "metadata": {},
   "outputs": [
    {
     "data": {
      "text/plain": [
       "array([Timestamp('2022-10-15 12:16:05.340000'), 0.895, 0.493, -0.016,\n",
       "       -0.732, -0.488, 0.915], dtype=object)"
      ]
     },
     "execution_count": 41,
     "metadata": {},
     "output_type": "execute_result"
    }
   ],
   "source": [
    "np.array(sub_data[0])"
   ]
  },
  {
   "cell_type": "code",
   "execution_count": 5,
   "id": "3482eba0-7c6a-49b5-ab20-8c7d4e5472c3",
   "metadata": {},
   "outputs": [
    {
     "data": {
      "text/plain": [
       "(Timestamp('2022-10-15 12:16:05.340000'), 0.895)"
      ]
     },
     "execution_count": 5,
     "metadata": {},
     "output_type": "execute_result"
    }
   ],
   "source": [
    "selected_data[0][0], selected_data[0][1]"
   ]
  },
  {
   "cell_type": "code",
   "execution_count": 8,
   "id": "1eb40998-2533-4ae2-ae18-c290f050ca46",
   "metadata": {},
   "outputs": [
    {
     "data": {
      "text/plain": [
       "(3149, 7)"
      ]
     },
     "execution_count": 8,
     "metadata": {},
     "output_type": "execute_result"
    }
   ],
   "source": [
    "selected_data.shape"
   ]
  },
  {
   "cell_type": "code",
   "execution_count": 13,
   "id": "7e6a84da-40d6-43d8-bd5a-0033fd4a7633",
   "metadata": {},
   "outputs": [
    {
     "data": {
      "text/plain": [
       "array([Timestamp('2022-10-15 12:16:05.340000'), 0.895, 0.493, -0.016,\n",
       "       -0.732, -0.488, 0.915], dtype=object)"
      ]
     },
     "execution_count": 13,
     "metadata": {},
     "output_type": "execute_result"
    }
   ],
   "source": [
    "selected_data[0]"
   ]
  },
  {
   "cell_type": "code",
   "execution_count": null,
   "id": "8da7eb04-cb5a-4805-bca3-126a0015264f",
   "metadata": {},
   "outputs": [],
   "source": []
  }
 ],
 "metadata": {
  "kernelspec": {
   "display_name": "Python 3 (ipykernel)",
   "language": "python",
   "name": "python3"
  },
  "language_info": {
   "codemirror_mode": {
    "name": "ipython",
    "version": 3
   },
   "file_extension": ".py",
   "mimetype": "text/x-python",
   "name": "python",
   "nbconvert_exporter": "python",
   "pygments_lexer": "ipython3",
   "version": "3.8.18"
  }
 },
 "nbformat": 4,
 "nbformat_minor": 5
}
